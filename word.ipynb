{
 "cells": [
  {
   "cell_type": "code",
   "execution_count": 1,
   "metadata": {},
   "outputs": [],
   "source": [
    "import matplotlib.pyplot as plt\n",
    "from sklearn.neighbors import KNeighborsClassifier\n",
    "import pandas as pd\n",
    "import os"
   ]
  },
  {
   "cell_type": "code",
   "execution_count": 2,
   "metadata": {},
   "outputs": [],
   "source": [
    "# Read in CSV file\n",
    "df1 = pd.read_csv('toxicityClass/train.csv')"
   ]
  },
  {
   "cell_type": "code",
   "execution_count": 3,
   "metadata": {},
   "outputs": [
    {
     "data": {
      "text/html": [
       "<div>\n",
       "<style scoped>\n",
       "    .dataframe tbody tr th:only-of-type {\n",
       "        vertical-align: middle;\n",
       "    }\n",
       "\n",
       "    .dataframe tbody tr th {\n",
       "        vertical-align: top;\n",
       "    }\n",
       "\n",
       "    .dataframe thead th {\n",
       "        text-align: right;\n",
       "    }\n",
       "</style>\n",
       "<table border=\"1\" class=\"dataframe\">\n",
       "  <thead>\n",
       "    <tr style=\"text-align: right;\">\n",
       "      <th></th>\n",
       "      <th>target</th>\n",
       "      <th>comment_text</th>\n",
       "    </tr>\n",
       "  </thead>\n",
       "  <tbody>\n",
       "    <tr>\n",
       "      <th>0</th>\n",
       "      <td>0.000000</td>\n",
       "      <td>This is so cool. It's like, 'would you want yo...</td>\n",
       "    </tr>\n",
       "    <tr>\n",
       "      <th>1</th>\n",
       "      <td>0.000000</td>\n",
       "      <td>Thank you!! This would make my life a lot less...</td>\n",
       "    </tr>\n",
       "    <tr>\n",
       "      <th>2</th>\n",
       "      <td>0.000000</td>\n",
       "      <td>This is such an urgent design problem; kudos t...</td>\n",
       "    </tr>\n",
       "    <tr>\n",
       "      <th>3</th>\n",
       "      <td>0.000000</td>\n",
       "      <td>Is this something I'll be able to install on m...</td>\n",
       "    </tr>\n",
       "    <tr>\n",
       "      <th>4</th>\n",
       "      <td>0.893617</td>\n",
       "      <td>haha you guys are a bunch of losers.</td>\n",
       "    </tr>\n",
       "  </tbody>\n",
       "</table>\n",
       "</div>"
      ],
      "text/plain": [
       "     target                                       comment_text\n",
       "0  0.000000  This is so cool. It's like, 'would you want yo...\n",
       "1  0.000000  Thank you!! This would make my life a lot less...\n",
       "2  0.000000  This is such an urgent design problem; kudos t...\n",
       "3  0.000000  Is this something I'll be able to install on m...\n",
       "4  0.893617               haha you guys are a bunch of losers."
      ]
     },
     "execution_count": 3,
     "metadata": {},
     "output_type": "execute_result"
    }
   ],
   "source": [
    "df2 = df1[['target', 'comment_text']]\n",
    "df2.head()"
   ]
  },
  {
   "cell_type": "code",
   "execution_count": 4,
   "metadata": {},
   "outputs": [],
   "source": [
    "df2 = df2.reset_index()"
   ]
  },
  {
   "cell_type": "code",
   "execution_count": 5,
   "metadata": {},
   "outputs": [
    {
     "data": {
      "text/plain": [
       "\"This is so cool. It's like, 'would you want your mother to read this??' Really great idea, well done!\""
      ]
     },
     "execution_count": 5,
     "metadata": {},
     "output_type": "execute_result"
    }
   ],
   "source": [
    "df2['comment_text'][0]"
   ]
  },
  {
   "cell_type": "code",
   "execution_count": 6,
   "metadata": {},
   "outputs": [
    {
     "name": "stderr",
     "output_type": "stream",
     "text": [
      "[nltk_data] Downloading package stopwords to /Users/John/nltk_data...\n",
      "[nltk_data]   Package stopwords is already up-to-date!\n"
     ]
    }
   ],
   "source": [
    "import nltk\n",
    "from nltk.corpus import stopwords\n",
    "nltk.download('stopwords')\n",
    "stop = stopwords.words('english')"
   ]
  },
  {
   "cell_type": "code",
   "execution_count": 8,
   "metadata": {
    "scrolled": true
   },
   "outputs": [
    {
     "data": {
      "text/html": [
       "<div>\n",
       "<style scoped>\n",
       "    .dataframe tbody tr th:only-of-type {\n",
       "        vertical-align: middle;\n",
       "    }\n",
       "\n",
       "    .dataframe tbody tr th {\n",
       "        vertical-align: top;\n",
       "    }\n",
       "\n",
       "    .dataframe thead th {\n",
       "        text-align: right;\n",
       "    }\n",
       "</style>\n",
       "<table border=\"1\" class=\"dataframe\">\n",
       "  <thead>\n",
       "    <tr style=\"text-align: right;\">\n",
       "      <th></th>\n",
       "      <th>index</th>\n",
       "      <th>target</th>\n",
       "      <th>comment_text</th>\n",
       "    </tr>\n",
       "  </thead>\n",
       "  <tbody>\n",
       "    <tr>\n",
       "      <th>0</th>\n",
       "      <td>0</td>\n",
       "      <td>0.0</td>\n",
       "      <td>this is so cool. it's like, 'would you want yo...</td>\n",
       "    </tr>\n",
       "    <tr>\n",
       "      <th>1</th>\n",
       "      <td>1</td>\n",
       "      <td>0.0</td>\n",
       "      <td>thank you!! this would make my life a lot less...</td>\n",
       "    </tr>\n",
       "    <tr>\n",
       "      <th>2</th>\n",
       "      <td>2</td>\n",
       "      <td>0.0</td>\n",
       "      <td>this is such an urgent design problem; kudos t...</td>\n",
       "    </tr>\n",
       "    <tr>\n",
       "      <th>3</th>\n",
       "      <td>3</td>\n",
       "      <td>0.0</td>\n",
       "      <td>is this something i'll be able to install on m...</td>\n",
       "    </tr>\n",
       "    <tr>\n",
       "      <th>4</th>\n",
       "      <td>4</td>\n",
       "      <td>0.8936170212765957</td>\n",
       "      <td>haha you guys are a bunch of losers.</td>\n",
       "    </tr>\n",
       "    <tr>\n",
       "      <th>5</th>\n",
       "      <td>5</td>\n",
       "      <td>0.6666666666666666</td>\n",
       "      <td>ur a sh*tty comment.</td>\n",
       "    </tr>\n",
       "    <tr>\n",
       "      <th>6</th>\n",
       "      <td>6</td>\n",
       "      <td>0.4576271186440678</td>\n",
       "      <td>hahahahahahahahhha suck it.</td>\n",
       "    </tr>\n",
       "    <tr>\n",
       "      <th>7</th>\n",
       "      <td>7</td>\n",
       "      <td>0.0</td>\n",
       "      <td>ffffuuuuuuuuuuuuuuu</td>\n",
       "    </tr>\n",
       "    <tr>\n",
       "      <th>8</th>\n",
       "      <td>8</td>\n",
       "      <td>0.0</td>\n",
       "      <td>the ranchers seem motivated by mostly by greed...</td>\n",
       "    </tr>\n",
       "    <tr>\n",
       "      <th>9</th>\n",
       "      <td>9</td>\n",
       "      <td>0.0</td>\n",
       "      <td>it was a great show. not a combo i'd of expect...</td>\n",
       "    </tr>\n",
       "    <tr>\n",
       "      <th>10</th>\n",
       "      <td>10</td>\n",
       "      <td>0.0</td>\n",
       "      <td>wow, that sounds great.</td>\n",
       "    </tr>\n",
       "    <tr>\n",
       "      <th>11</th>\n",
       "      <td>11</td>\n",
       "      <td>0.44</td>\n",
       "      <td>this is a great story. man. i wonder if the pe...</td>\n",
       "    </tr>\n",
       "    <tr>\n",
       "      <th>12</th>\n",
       "      <td>12</td>\n",
       "      <td>0.0</td>\n",
       "      <td>this seems like a step in the right direction.</td>\n",
       "    </tr>\n",
       "    <tr>\n",
       "      <th>13</th>\n",
       "      <td>13</td>\n",
       "      <td>0.6</td>\n",
       "      <td>it's ridiculous that these guys are being call...</td>\n",
       "    </tr>\n",
       "    <tr>\n",
       "      <th>14</th>\n",
       "      <td>14</td>\n",
       "      <td>0.5</td>\n",
       "      <td>this story gets more ridiculous by the hour! a...</td>\n",
       "    </tr>\n",
       "    <tr>\n",
       "      <th>15</th>\n",
       "      <td>15</td>\n",
       "      <td>0.0</td>\n",
       "      <td>i agree; i don't want to grant them the legiti...</td>\n",
       "    </tr>\n",
       "    <tr>\n",
       "      <th>16</th>\n",
       "      <td>16</td>\n",
       "      <td>0.0</td>\n",
       "      <td>interesting. i'll be curious to see how this w...</td>\n",
       "    </tr>\n",
       "    <tr>\n",
       "      <th>17</th>\n",
       "      <td>17</td>\n",
       "      <td>0.0</td>\n",
       "      <td>awesome! i love civil comments!</td>\n",
       "    </tr>\n",
       "    <tr>\n",
       "      <th>18</th>\n",
       "      <td>18</td>\n",
       "      <td>0.0</td>\n",
       "      <td>i'm glad you're working on this, and i look fo...</td>\n",
       "    </tr>\n",
       "    <tr>\n",
       "      <th>19</th>\n",
       "      <td>19</td>\n",
       "      <td>0.5</td>\n",
       "      <td>angry trolls, misogynists and racists\", oh my....</td>\n",
       "    </tr>\n",
       "    <tr>\n",
       "      <th>20</th>\n",
       "      <td>20</td>\n",
       "      <td>0.0</td>\n",
       "      <td>nice to some attempts to try to make comments ...</td>\n",
       "    </tr>\n",
       "    <tr>\n",
       "      <th>21</th>\n",
       "      <td>21</td>\n",
       "      <td>0.0</td>\n",
       "      <td>one would hope that the purpose of introducing...</td>\n",
       "    </tr>\n",
       "    <tr>\n",
       "      <th>22</th>\n",
       "      <td>22</td>\n",
       "      <td>0.0</td>\n",
       "      <td>comments will be randomly chosen and be review...</td>\n",
       "    </tr>\n",
       "    <tr>\n",
       "      <th>23</th>\n",
       "      <td>23</td>\n",
       "      <td>0.0</td>\n",
       "      <td>she would be a major improvement for city coun...</td>\n",
       "    </tr>\n",
       "    <tr>\n",
       "      <th>24</th>\n",
       "      <td>24</td>\n",
       "      <td>0.0</td>\n",
       "      <td>i agree! comments have so much potential to be...</td>\n",
       "    </tr>\n",
       "    <tr>\n",
       "      <th>25</th>\n",
       "      <td>25</td>\n",
       "      <td>0.0</td>\n",
       "      <td>great question! it's one we're asked a lot. we...</td>\n",
       "    </tr>\n",
       "    <tr>\n",
       "      <th>26</th>\n",
       "      <td>26</td>\n",
       "      <td>0.0</td>\n",
       "      <td>thanks, christa!  will you be adding any featu...</td>\n",
       "    </tr>\n",
       "    <tr>\n",
       "      <th>27</th>\n",
       "      <td>27</td>\n",
       "      <td>0.0</td>\n",
       "      <td>our aim is actually the opposite: we want spir...</td>\n",
       "    </tr>\n",
       "    <tr>\n",
       "      <th>28</th>\n",
       "      <td>28</td>\n",
       "      <td>0.0</td>\n",
       "      <td>thanks! we're really going to try — not only t...</td>\n",
       "    </tr>\n",
       "    <tr>\n",
       "      <th>29</th>\n",
       "      <td>29</td>\n",
       "      <td>0.0</td>\n",
       "      <td>i applaud civil's efforts to create some new t...</td>\n",
       "    </tr>\n",
       "    <tr>\n",
       "      <th>...</th>\n",
       "      <td>...</td>\n",
       "      <td>...</td>\n",
       "      <td>...</td>\n",
       "    </tr>\n",
       "    <tr>\n",
       "      <th>1804844</th>\n",
       "      <td>1804844</td>\n",
       "      <td>0.0</td>\n",
       "      <td>one of the first things that they teach in law...</td>\n",
       "    </tr>\n",
       "    <tr>\n",
       "      <th>1804845</th>\n",
       "      <td>1804845</td>\n",
       "      <td>0.0</td>\n",
       "      <td>i would ask ms. renzetti to be honest with her...</td>\n",
       "    </tr>\n",
       "    <tr>\n",
       "      <th>1804846</th>\n",
       "      <td>1804846</td>\n",
       "      <td>0.0</td>\n",
       "      <td>betcha his career is not over, contrary to pop...</td>\n",
       "    </tr>\n",
       "    <tr>\n",
       "      <th>1804847</th>\n",
       "      <td>1804847</td>\n",
       "      <td>0.0</td>\n",
       "      <td>i understand your attitude on this.  but i thi...</td>\n",
       "    </tr>\n",
       "    <tr>\n",
       "      <th>1804848</th>\n",
       "      <td>1804848</td>\n",
       "      <td>0.0</td>\n",
       "      <td>women's rights?  last i checked women were jus...</td>\n",
       "    </tr>\n",
       "    <tr>\n",
       "      <th>1804849</th>\n",
       "      <td>1804849</td>\n",
       "      <td>0.4</td>\n",
       "      <td>a democrat accused of sexual harassment, go fi...</td>\n",
       "    </tr>\n",
       "    <tr>\n",
       "      <th>1804850</th>\n",
       "      <td>1804850</td>\n",
       "      <td>0.0</td>\n",
       "      <td>every time there are testimonies, like this, i...</td>\n",
       "    </tr>\n",
       "    <tr>\n",
       "      <th>1804851</th>\n",
       "      <td>1804851</td>\n",
       "      <td>0.0</td>\n",
       "      <td>so you think that we should have laws protecti...</td>\n",
       "    </tr>\n",
       "    <tr>\n",
       "      <th>1804852</th>\n",
       "      <td>1804852</td>\n",
       "      <td>0.3</td>\n",
       "      <td>xi and his comrades must be smirking over trum...</td>\n",
       "    </tr>\n",
       "    <tr>\n",
       "      <th>1804853</th>\n",
       "      <td>1804853</td>\n",
       "      <td>0.0</td>\n",
       "      <td>love your sarcasm thick or are you just being ...</td>\n",
       "    </tr>\n",
       "    <tr>\n",
       "      <th>1804854</th>\n",
       "      <td>1804854</td>\n",
       "      <td>0.0</td>\n",
       "      <td>all economists are using gdp in the world. ind...</td>\n",
       "    </tr>\n",
       "    <tr>\n",
       "      <th>1804855</th>\n",
       "      <td>1804855</td>\n",
       "      <td>0.16666666666666666</td>\n",
       "      <td>it is of course normal and natural for eugene ...</td>\n",
       "    </tr>\n",
       "    <tr>\n",
       "      <th>1804856</th>\n",
       "      <td>1804856</td>\n",
       "      <td>0.5</td>\n",
       "      <td>believing in god or not believing in god are p...</td>\n",
       "    </tr>\n",
       "    <tr>\n",
       "      <th>1804857</th>\n",
       "      <td>1804857</td>\n",
       "      <td>0.7</td>\n",
       "      <td>i take your point, but i think you're shooting...</td>\n",
       "    </tr>\n",
       "    <tr>\n",
       "      <th>1804858</th>\n",
       "      <td>1804858</td>\n",
       "      <td>0.2</td>\n",
       "      <td>my thought exactly.  the only people he hasn't...</td>\n",
       "    </tr>\n",
       "    <tr>\n",
       "      <th>1804859</th>\n",
       "      <td>1804859</td>\n",
       "      <td>0.0</td>\n",
       "      <td>irt satire, fully disagree with your post.  2/...</td>\n",
       "    </tr>\n",
       "    <tr>\n",
       "      <th>1804860</th>\n",
       "      <td>1804860</td>\n",
       "      <td>0.0</td>\n",
       "      <td>gba:  i do agree that disruptive behavior shou...</td>\n",
       "    </tr>\n",
       "    <tr>\n",
       "      <th>1804861</th>\n",
       "      <td>1804861</td>\n",
       "      <td>0.0</td>\n",
       "      <td>i agree, bill g\\nthe vote-buying has begun by ...</td>\n",
       "    </tr>\n",
       "    <tr>\n",
       "      <th>1804862</th>\n",
       "      <td>1804862</td>\n",
       "      <td>0.0</td>\n",
       "      <td>no, the probability of dying may be very, very...</td>\n",
       "    </tr>\n",
       "    <tr>\n",
       "      <th>1804863</th>\n",
       "      <td>1804863</td>\n",
       "      <td>0.2</td>\n",
       "      <td>nah, i am too boring to parody.  this guy camp...</td>\n",
       "    </tr>\n",
       "    <tr>\n",
       "      <th>1804864</th>\n",
       "      <td>1804864</td>\n",
       "      <td>0.0</td>\n",
       "      <td>yes, of course that works for files on board a...</td>\n",
       "    </tr>\n",
       "    <tr>\n",
       "      <th>1804865</th>\n",
       "      <td>1804865</td>\n",
       "      <td>0.16666666666666666</td>\n",
       "      <td>payette's point of view is legitimate and i th...</td>\n",
       "    </tr>\n",
       "    <tr>\n",
       "      <th>1804866</th>\n",
       "      <td>1804866</td>\n",
       "      <td>0.3</td>\n",
       "      <td>there's no whine like alberta whine!</td>\n",
       "    </tr>\n",
       "    <tr>\n",
       "      <th>1804867</th>\n",
       "      <td>1804867</td>\n",
       "      <td>0.2</td>\n",
       "      <td>if alberta had given them nothing, you'd still...</td>\n",
       "    </tr>\n",
       "    <tr>\n",
       "      <th>1804868</th>\n",
       "      <td>1804868</td>\n",
       "      <td>0.0</td>\n",
       "      <td>cont....gba:  \"here's the summation of that \"l...</td>\n",
       "    </tr>\n",
       "    <tr>\n",
       "      <th>1804869</th>\n",
       "      <td>1804869</td>\n",
       "      <td>0.0</td>\n",
       "      <td>maybe the tax on \"things\" would be collected w...</td>\n",
       "    </tr>\n",
       "    <tr>\n",
       "      <th>1804870</th>\n",
       "      <td>1804870</td>\n",
       "      <td>0.0</td>\n",
       "      <td>what do you call people who still think the di...</td>\n",
       "    </tr>\n",
       "    <tr>\n",
       "      <th>1804871</th>\n",
       "      <td>1804871</td>\n",
       "      <td>0.0</td>\n",
       "      <td>thank you ,,,right or wrong,,, i am following ...</td>\n",
       "    </tr>\n",
       "    <tr>\n",
       "      <th>1804872</th>\n",
       "      <td>1804872</td>\n",
       "      <td>0.6212121212121212</td>\n",
       "      <td>anyone who is quoted as having the following e...</td>\n",
       "    </tr>\n",
       "    <tr>\n",
       "      <th>1804873</th>\n",
       "      <td>1804873</td>\n",
       "      <td>0.0</td>\n",
       "      <td>students defined as ebd are legally just as di...</td>\n",
       "    </tr>\n",
       "  </tbody>\n",
       "</table>\n",
       "<p>1804874 rows × 3 columns</p>\n",
       "</div>"
      ],
      "text/plain": [
       "           index               target  \\\n",
       "0              0                  0.0   \n",
       "1              1                  0.0   \n",
       "2              2                  0.0   \n",
       "3              3                  0.0   \n",
       "4              4   0.8936170212765957   \n",
       "5              5   0.6666666666666666   \n",
       "6              6   0.4576271186440678   \n",
       "7              7                  0.0   \n",
       "8              8                  0.0   \n",
       "9              9                  0.0   \n",
       "10            10                  0.0   \n",
       "11            11                 0.44   \n",
       "12            12                  0.0   \n",
       "13            13                  0.6   \n",
       "14            14                  0.5   \n",
       "15            15                  0.0   \n",
       "16            16                  0.0   \n",
       "17            17                  0.0   \n",
       "18            18                  0.0   \n",
       "19            19                  0.5   \n",
       "20            20                  0.0   \n",
       "21            21                  0.0   \n",
       "22            22                  0.0   \n",
       "23            23                  0.0   \n",
       "24            24                  0.0   \n",
       "25            25                  0.0   \n",
       "26            26                  0.0   \n",
       "27            27                  0.0   \n",
       "28            28                  0.0   \n",
       "29            29                  0.0   \n",
       "...          ...                  ...   \n",
       "1804844  1804844                  0.0   \n",
       "1804845  1804845                  0.0   \n",
       "1804846  1804846                  0.0   \n",
       "1804847  1804847                  0.0   \n",
       "1804848  1804848                  0.0   \n",
       "1804849  1804849                  0.4   \n",
       "1804850  1804850                  0.0   \n",
       "1804851  1804851                  0.0   \n",
       "1804852  1804852                  0.3   \n",
       "1804853  1804853                  0.0   \n",
       "1804854  1804854                  0.0   \n",
       "1804855  1804855  0.16666666666666666   \n",
       "1804856  1804856                  0.5   \n",
       "1804857  1804857                  0.7   \n",
       "1804858  1804858                  0.2   \n",
       "1804859  1804859                  0.0   \n",
       "1804860  1804860                  0.0   \n",
       "1804861  1804861                  0.0   \n",
       "1804862  1804862                  0.0   \n",
       "1804863  1804863                  0.2   \n",
       "1804864  1804864                  0.0   \n",
       "1804865  1804865  0.16666666666666666   \n",
       "1804866  1804866                  0.3   \n",
       "1804867  1804867                  0.2   \n",
       "1804868  1804868                  0.0   \n",
       "1804869  1804869                  0.0   \n",
       "1804870  1804870                  0.0   \n",
       "1804871  1804871                  0.0   \n",
       "1804872  1804872   0.6212121212121212   \n",
       "1804873  1804873                  0.0   \n",
       "\n",
       "                                              comment_text  \n",
       "0        this is so cool. it's like, 'would you want yo...  \n",
       "1        thank you!! this would make my life a lot less...  \n",
       "2        this is such an urgent design problem; kudos t...  \n",
       "3        is this something i'll be able to install on m...  \n",
       "4                     haha you guys are a bunch of losers.  \n",
       "5                                     ur a sh*tty comment.  \n",
       "6                              hahahahahahahahhha suck it.  \n",
       "7                                      ffffuuuuuuuuuuuuuuu  \n",
       "8        the ranchers seem motivated by mostly by greed...  \n",
       "9        it was a great show. not a combo i'd of expect...  \n",
       "10                                 wow, that sounds great.  \n",
       "11       this is a great story. man. i wonder if the pe...  \n",
       "12          this seems like a step in the right direction.  \n",
       "13       it's ridiculous that these guys are being call...  \n",
       "14       this story gets more ridiculous by the hour! a...  \n",
       "15       i agree; i don't want to grant them the legiti...  \n",
       "16       interesting. i'll be curious to see how this w...  \n",
       "17                         awesome! i love civil comments!  \n",
       "18       i'm glad you're working on this, and i look fo...  \n",
       "19       angry trolls, misogynists and racists\", oh my....  \n",
       "20       nice to some attempts to try to make comments ...  \n",
       "21       one would hope that the purpose of introducing...  \n",
       "22       comments will be randomly chosen and be review...  \n",
       "23       she would be a major improvement for city coun...  \n",
       "24       i agree! comments have so much potential to be...  \n",
       "25       great question! it's one we're asked a lot. we...  \n",
       "26       thanks, christa!  will you be adding any featu...  \n",
       "27       our aim is actually the opposite: we want spir...  \n",
       "28       thanks! we're really going to try — not only t...  \n",
       "29       i applaud civil's efforts to create some new t...  \n",
       "...                                                    ...  \n",
       "1804844  one of the first things that they teach in law...  \n",
       "1804845  i would ask ms. renzetti to be honest with her...  \n",
       "1804846  betcha his career is not over, contrary to pop...  \n",
       "1804847  i understand your attitude on this.  but i thi...  \n",
       "1804848  women's rights?  last i checked women were jus...  \n",
       "1804849  a democrat accused of sexual harassment, go fi...  \n",
       "1804850  every time there are testimonies, like this, i...  \n",
       "1804851  so you think that we should have laws protecti...  \n",
       "1804852  xi and his comrades must be smirking over trum...  \n",
       "1804853  love your sarcasm thick or are you just being ...  \n",
       "1804854  all economists are using gdp in the world. ind...  \n",
       "1804855  it is of course normal and natural for eugene ...  \n",
       "1804856  believing in god or not believing in god are p...  \n",
       "1804857  i take your point, but i think you're shooting...  \n",
       "1804858  my thought exactly.  the only people he hasn't...  \n",
       "1804859  irt satire, fully disagree with your post.  2/...  \n",
       "1804860  gba:  i do agree that disruptive behavior shou...  \n",
       "1804861  i agree, bill g\\nthe vote-buying has begun by ...  \n",
       "1804862  no, the probability of dying may be very, very...  \n",
       "1804863  nah, i am too boring to parody.  this guy camp...  \n",
       "1804864  yes, of course that works for files on board a...  \n",
       "1804865  payette's point of view is legitimate and i th...  \n",
       "1804866               there's no whine like alberta whine!  \n",
       "1804867  if alberta had given them nothing, you'd still...  \n",
       "1804868  cont....gba:  \"here's the summation of that \"l...  \n",
       "1804869  maybe the tax on \"things\" would be collected w...  \n",
       "1804870  what do you call people who still think the di...  \n",
       "1804871  thank you ,,,right or wrong,,, i am following ...  \n",
       "1804872  anyone who is quoted as having the following e...  \n",
       "1804873  students defined as ebd are legally just as di...  \n",
       "\n",
       "[1804874 rows x 3 columns]"
      ]
     },
     "execution_count": 8,
     "metadata": {},
     "output_type": "execute_result"
    }
   ],
   "source": [
    "df2 = df2.apply(lambda x: x.astype(str).str.lower())\n",
    "df2"
   ]
  },
  {
   "cell_type": "code",
   "execution_count": 10,
   "metadata": {},
   "outputs": [],
   "source": [
    "import re"
   ]
  },
  {
   "cell_type": "code",
   "execution_count": 17,
   "metadata": {},
   "outputs": [],
   "source": [
    "df2['comment_text'] = df2['comment_text'].apply(lambda line: [word for word in re.split(\"( )+\", line) if word not in stop])"
   ]
  },
  {
   "cell_type": "code",
   "execution_count": 18,
   "metadata": {},
   "outputs": [
    {
     "name": "stderr",
     "output_type": "stream",
     "text": [
      "/Users/John/anaconda3/lib/python3.6/site-packages/smart_open/ssh.py:34: UserWarning: paramiko missing, opening SSH/SCP/SFTP paths will be disabled.  `pip install paramiko` to suppress\n",
      "  warnings.warn('paramiko missing, opening SSH/SCP/SFTP paths will be disabled.  `pip install paramiko` to suppress')\n"
     ]
    }
   ],
   "source": [
    "# Import WordVec\n",
    "from gensim.models import Word2Vec\n",
    "\n",
    "model = Word2Vec(df2, size=100, window=5, min_count=1, workers=4)"
   ]
  },
  {
   "cell_type": "code",
   "execution_count": 19,
   "metadata": {},
   "outputs": [],
   "source": [
    "model.save(\"word2vec.model\")"
   ]
  },
  {
   "cell_type": "code",
   "execution_count": 22,
   "metadata": {},
   "outputs": [],
   "source": [
    "df_new = pd.read_csv('toxicityClass/test.csv')"
   ]
  },
  {
   "cell_type": "code",
   "execution_count": 25,
   "metadata": {},
   "outputs": [
    {
     "data": {
      "text/plain": [
       "(20827984, 290703400)"
      ]
     },
     "execution_count": 25,
     "metadata": {},
     "output_type": "execute_result"
    }
   ],
   "source": [
    "model.train(df_new['comment_text'], total_examples=4, epochs=10)"
   ]
  },
  {
   "cell_type": "code",
   "execution_count": 26,
   "metadata": {},
   "outputs": [],
   "source": [
    "from sklearn.datasets import make_regression\n",
    "\n",
    "X, y = make_regression(n_samples=20, n_features=1, random_state=0, noise=4, bias=100.0) "
   ]
  },
  {
   "cell_type": "code",
   "execution_count": 27,
   "metadata": {},
   "outputs": [
    {
     "data": {
      "text/plain": [
       "LinearRegression(copy_X=True, fit_intercept=True, n_jobs=None,\n",
       "         normalize=False)"
      ]
     },
     "execution_count": 27,
     "metadata": {},
     "output_type": "execute_result"
    }
   ],
   "source": [
    "from sklearn.linear_model import LinearRegression\n",
    "model1 = LinearRegression()\n",
    "model1"
   ]
  },
  {
   "cell_type": "code",
   "execution_count": 28,
   "metadata": {},
   "outputs": [
    {
     "name": "stdout",
     "output_type": "stream",
     "text": [
      "LinearRegression(copy_X=True, fit_intercept=True, n_jobs=None,\n",
      "         normalize=False)\n"
     ]
    }
   ],
   "source": [
    "model1.fit(X,y)\n",
    "print(model1)"
   ]
  },
  {
   "cell_type": "code",
   "execution_count": 29,
   "metadata": {},
   "outputs": [
    {
     "name": "stdout",
     "output_type": "stream",
     "text": [
      "Weight coefficients:  [12.44002424]\n",
      "y-axis intercept:  101.89622505659258\n"
     ]
    }
   ],
   "source": [
    "print('Weight coefficients: ', model1.coef_)\n",
    "print('y-axis intercept: ', model1.intercept_) "
   ]
  },
  {
   "cell_type": "code",
   "execution_count": 41,
   "metadata": {},
   "outputs": [
    {
     "name": "stdout",
     "output_type": "stream",
     "text": [
      "2.240893199201458 -0.977277879876411\n"
     ]
    }
   ],
   "source": [
    "x_min = X.min()\n",
    "x_max = X.max()\n",
    "y_min_actual = y.min()\n",
    "y_max_actual = y.max()\n",
    "print(x_max, x_min)"
   ]
  },
  {
   "cell_type": "code",
   "execution_count": 40,
   "metadata": {},
   "outputs": [
    {
     "name": "stdout",
     "output_type": "stream",
     "text": [
      "True output: 98.01970393090812\n",
      "Predicted output: 31.38136945333268\n",
      "Prediction Error: -66.63833447757544\n"
     ]
    }
   ],
   "source": [
    "predictions = (model1.predict(X) - x_min)/ (x_max-x_min) \n",
    "predictions\n",
    "print(f\"True output: {y[0]}\")\n",
    "print(f\"Predicted output: {predictions[0]}\")\n",
    "print(f\"Prediction Error: {predictions[0]-y[0]}\")"
   ]
  },
  {
   "cell_type": "code",
   "execution_count": 43,
   "metadata": {},
   "outputs": [
    {
     "data": {
      "text/plain": [
       "[<matplotlib.lines.Line2D at 0x25dc6e6d8>]"
      ]
     },
     "execution_count": 43,
     "metadata": {},
     "output_type": "execute_result"
    },
    {
     "data": {
      "image/png": "[encoded data removed]",
      "text/plain": [
       "<Figure size 432x288 with 1 Axes>"
      ]
     },
     "metadata": {
      "needs_background": "light"
     },
     "output_type": "display_data"
    }
   ],
   "source": [
    "y_min =  101.89622505659258+ 12.44002424 * x_min\n",
    "y_max = 101.896225057 + 12.44002424 * x_max\n",
    "plt.scatter(X, y, c='blue')\n",
    "plt.plot([x_min, x_max], [y_min, y_max], c='red')"
   ]
  },
  {
   "cell_type": "code",
   "execution_count": null,
   "metadata": {},
   "outputs": [],
   "source": []
  }
 ],
 "metadata": {
  "kernelspec": {
   "display_name": "Python 3",
   "language": "python",
   "name": "python3"
  },
  "language_info": {
   "codemirror_mode": {
    "name": "ipython",
    "version": 3
   },
   "file_extension": ".py",
   "mimetype": "text/x-python",
   "name": "python",
   "nbconvert_exporter": "python",
   "pygments_lexer": "ipython3",
   "version": "3.6.7"
  }
 },
 "nbformat": 4,
 "nbformat_minor": 2
}
